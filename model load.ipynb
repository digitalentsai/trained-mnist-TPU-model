{
 "cells": [
  {
   "cell_type": "code",
   "execution_count": 1,
   "metadata": {
    "scrolled": true
   },
   "outputs": [
    {
     "name": "stdout",
     "output_type": "stream",
     "text": [
      "WARNING:tensorflow:No training configuration found in save file: the model was *not* compiled. Compile it manually.\n"
     ]
    }
   ],
   "source": [
    "import tensorflow as tf\n",
    "import numpy as np\n",
    "import os\n",
    "import cv2\n",
    "import matplotlib.pyplot as plt\n",
    "import time\n",
    "import timeit\n",
    "new_model = tf.keras.models.load_model('TPU.h5')"
   ]
  },
  {
   "cell_type": "code",
   "execution_count": 7,
   "metadata": {
    "scrolled": false
   },
   "outputs": [
    {
     "name": "stdout",
     "output_type": "stream",
     "text": [
      "4.733467102050781\n",
      "\n",
      "0 0.29802422504872084\n",
      "1 3.299822992630652e-06\n",
      "2 6.950528472771111e-05\n",
      "3 98.59532117843628\n",
      "4 4.001729081437588e-06\n",
      "5 0.03464539768174291\n",
      "6 0.0006602822395507246\n",
      "7 0.000127861119381123\n",
      "8 1.070482935756445\n",
      "9 0.0006688584562652977\n",
      "\n"
     ]
    },
    {
     "data": {
      "text/plain": [
       "3"
      ]
     },
     "execution_count": 7,
     "metadata": {},
     "output_type": "execute_result"
    },
    {
     "data": {
      "image/png": "[encoded data removed]",
      "text/plain": [
       "<Figure size 432x288 with 1 Axes>"
      ]
     },
     "metadata": {
      "needs_background": "light"
     },
     "output_type": "display_data"
    }
   ],
   "source": [
    "t1 = time.time()\n",
    "file = \"n.jpg\"\n",
    "im = cv2.imread(file,0)\n",
    "plt.imshow(im)\n",
    "\n",
    "im = np.expand_dims(im, 0)\n",
    "im = np.expand_dims(im, -1)\n",
    "\n",
    "q = new_model.predict(im)\n",
    "t2 = time.time()\n",
    "\n",
    "print((t2-t1)*100)\n",
    "print(\"\")\n",
    "n = 0;\n",
    "for i in (q[0]):\n",
    "  print( str(n) +\" \"+str(i*100))\n",
    "  n = n+1\n",
    "\n",
    "print(\"\")\n",
    "np.argmax(q[0])"
   ]
  }
 ],
 "metadata": {
  "kernelspec": {
   "display_name": "Python 3",
   "language": "python",
   "name": "python3"
  },
  "language_info": {
   "codemirror_mode": {
    "name": "ipython",
    "version": 3
   },
   "file_extension": ".py",
   "mimetype": "text/x-python",
   "name": "python",
   "nbconvert_exporter": "python",
   "pygments_lexer": "ipython3",
   "version": "3.6.8"
  }
 },
 "nbformat": 4,
 "nbformat_minor": 2
}
